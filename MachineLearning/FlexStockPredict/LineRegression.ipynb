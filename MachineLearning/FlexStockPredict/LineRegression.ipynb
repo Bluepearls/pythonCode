{
 "cells": [
  {
   "cell_type": "code",
   "execution_count": 78,
   "metadata": {},
   "outputs": [],
   "source": [
    "import pandas as pd\n",
    "import numpy as np\n",
    "from sklearn.linear_model import LinearRegression\n",
    "from sklearn.model_selection import train_test_split\n",
    "from sklearn.metrics import mean_squared_error\n"
   ]
  },
  {
   "cell_type": "code",
   "execution_count": 79,
   "metadata": {},
   "outputs": [
    {
     "data": {
      "text/html": [
       "<div>\n",
       "<style scoped>\n",
       "    .dataframe tbody tr th:only-of-type {\n",
       "        vertical-align: middle;\n",
       "    }\n",
       "\n",
       "    .dataframe tbody tr th {\n",
       "        vertical-align: top;\n",
       "    }\n",
       "\n",
       "    .dataframe thead th {\n",
       "        text-align: right;\n",
       "    }\n",
       "</style>\n",
       "<table border=\"1\" class=\"dataframe\">\n",
       "  <thead>\n",
       "    <tr style=\"text-align: right;\">\n",
       "      <th></th>\n",
       "      <th>Date</th>\n",
       "      <th>Close</th>\n",
       "      <th>Open</th>\n",
       "      <th>High</th>\n",
       "      <th>Low</th>\n",
       "      <th>Volumn</th>\n",
       "      <th>Chg</th>\n",
       "    </tr>\n",
       "  </thead>\n",
       "  <tbody>\n",
       "    <tr>\n",
       "      <th>0</th>\n",
       "      <td>11/9/2023</td>\n",
       "      <td>25.65</td>\n",
       "      <td>25.89</td>\n",
       "      <td>26.06</td>\n",
       "      <td>25.63</td>\n",
       "      <td>2.88M</td>\n",
       "      <td>-0.70%</td>\n",
       "    </tr>\n",
       "    <tr>\n",
       "      <th>1</th>\n",
       "      <td>11/8/2023</td>\n",
       "      <td>25.83</td>\n",
       "      <td>25.74</td>\n",
       "      <td>26.00</td>\n",
       "      <td>25.49</td>\n",
       "      <td>2.31M</td>\n",
       "      <td>0.51%</td>\n",
       "    </tr>\n",
       "    <tr>\n",
       "      <th>2</th>\n",
       "      <td>11/7/2023</td>\n",
       "      <td>25.70</td>\n",
       "      <td>25.89</td>\n",
       "      <td>26.06</td>\n",
       "      <td>25.70</td>\n",
       "      <td>1.57M</td>\n",
       "      <td>-0.96%</td>\n",
       "    </tr>\n",
       "    <tr>\n",
       "      <th>3</th>\n",
       "      <td>11/6/2023</td>\n",
       "      <td>25.95</td>\n",
       "      <td>26.13</td>\n",
       "      <td>26.16</td>\n",
       "      <td>25.85</td>\n",
       "      <td>2.17M</td>\n",
       "      <td>-0.69%</td>\n",
       "    </tr>\n",
       "    <tr>\n",
       "      <th>4</th>\n",
       "      <td>11/3/2023</td>\n",
       "      <td>26.13</td>\n",
       "      <td>25.74</td>\n",
       "      <td>26.25</td>\n",
       "      <td>25.64</td>\n",
       "      <td>4.47M</td>\n",
       "      <td>3.04%</td>\n",
       "    </tr>\n",
       "    <tr>\n",
       "      <th>...</th>\n",
       "      <td>...</td>\n",
       "      <td>...</td>\n",
       "      <td>...</td>\n",
       "      <td>...</td>\n",
       "      <td>...</td>\n",
       "      <td>...</td>\n",
       "      <td>...</td>\n",
       "    </tr>\n",
       "    <tr>\n",
       "      <th>1470</th>\n",
       "      <td>1/8/2018</td>\n",
       "      <td>18.60</td>\n",
       "      <td>18.49</td>\n",
       "      <td>18.65</td>\n",
       "      <td>18.30</td>\n",
       "      <td>2.27M</td>\n",
       "      <td>0.32%</td>\n",
       "    </tr>\n",
       "    <tr>\n",
       "      <th>1471</th>\n",
       "      <td>1/5/2018</td>\n",
       "      <td>18.54</td>\n",
       "      <td>18.57</td>\n",
       "      <td>18.67</td>\n",
       "      <td>18.43</td>\n",
       "      <td>2.79M</td>\n",
       "      <td>0.11%</td>\n",
       "    </tr>\n",
       "    <tr>\n",
       "      <th>1472</th>\n",
       "      <td>1/4/2018</td>\n",
       "      <td>18.52</td>\n",
       "      <td>18.42</td>\n",
       "      <td>18.76</td>\n",
       "      <td>18.39</td>\n",
       "      <td>7.93M</td>\n",
       "      <td>0.60%</td>\n",
       "    </tr>\n",
       "    <tr>\n",
       "      <th>1473</th>\n",
       "      <td>1/3/2018</td>\n",
       "      <td>18.41</td>\n",
       "      <td>18.23</td>\n",
       "      <td>18.47</td>\n",
       "      <td>18.19</td>\n",
       "      <td>2.15M</td>\n",
       "      <td>0.99%</td>\n",
       "    </tr>\n",
       "    <tr>\n",
       "      <th>1474</th>\n",
       "      <td>1/2/2018</td>\n",
       "      <td>18.23</td>\n",
       "      <td>18.15</td>\n",
       "      <td>18.25</td>\n",
       "      <td>17.94</td>\n",
       "      <td>2.62M</td>\n",
       "      <td>1.33%</td>\n",
       "    </tr>\n",
       "  </tbody>\n",
       "</table>\n",
       "<p>1475 rows × 7 columns</p>\n",
       "</div>"
      ],
      "text/plain": [
       "           Date  Close   Open   High    Low Volumn     Chg\n",
       "0     11/9/2023  25.65  25.89  26.06  25.63  2.88M  -0.70%\n",
       "1     11/8/2023  25.83  25.74  26.00  25.49  2.31M   0.51%\n",
       "2     11/7/2023  25.70  25.89  26.06  25.70  1.57M  -0.96%\n",
       "3     11/6/2023  25.95  26.13  26.16  25.85  2.17M  -0.69%\n",
       "4     11/3/2023  26.13  25.74  26.25  25.64  4.47M   3.04%\n",
       "...         ...    ...    ...    ...    ...    ...     ...\n",
       "1470   1/8/2018  18.60  18.49  18.65  18.30  2.27M   0.32%\n",
       "1471   1/5/2018  18.54  18.57  18.67  18.43  2.79M   0.11%\n",
       "1472   1/4/2018  18.52  18.42  18.76  18.39  7.93M   0.60%\n",
       "1473   1/3/2018  18.41  18.23  18.47  18.19  2.15M   0.99%\n",
       "1474   1/2/2018  18.23  18.15  18.25  17.94  2.62M   1.33%\n",
       "\n",
       "[1475 rows x 7 columns]"
      ]
     },
     "execution_count": 79,
     "metadata": {},
     "output_type": "execute_result"
    }
   ],
   "source": [
    "# 读取股票数据\n",
    "data = pd.read_csv('Flex_stock.csv')\n",
    "data"
   ]
  },
  {
   "cell_type": "code",
   "execution_count": 80,
   "metadata": {},
   "outputs": [
    {
     "data": {
      "text/plain": [
       "(1475, 1)"
      ]
     },
     "execution_count": 80,
     "metadata": {},
     "output_type": "execute_result"
    }
   ],
   "source": [
    "# 提取特征和目标变量\n",
    "y = data['Close']\n",
    "features=[\"Open\"]\n",
    "X=data[features]\n",
    "X.shape"
   ]
  },
  {
   "cell_type": "code",
   "execution_count": 81,
   "metadata": {},
   "outputs": [
    {
     "data": {
      "text/plain": [
       "852     10.64\n",
       "184     24.24\n",
       "1225     7.62\n",
       "67      27.42\n",
       "220     21.48\n",
       "        ...  \n",
       "560     17.54\n",
       "946     13.21\n",
       "522     18.28\n",
       "874      9.82\n",
       "1416    16.66\n",
       "Name: Close, Length: 295, dtype: float64"
      ]
     },
     "execution_count": 81,
     "metadata": {},
     "output_type": "execute_result"
    }
   ],
   "source": [
    "# 将数据集分为训练集和测试集\n",
    "X_train, X_test, y_train, y_test = train_test_split(X, y, test_size=0.2, random_state=42)\n",
    "y_test"
   ]
  },
  {
   "cell_type": "code",
   "execution_count": 82,
   "metadata": {},
   "outputs": [
    {
     "data": {
      "text/html": [
       "<style>#sk-container-id-5 {color: black;}#sk-container-id-5 pre{padding: 0;}#sk-container-id-5 div.sk-toggleable {background-color: white;}#sk-container-id-5 label.sk-toggleable__label {cursor: pointer;display: block;width: 100%;margin-bottom: 0;padding: 0.3em;box-sizing: border-box;text-align: center;}#sk-container-id-5 label.sk-toggleable__label-arrow:before {content: \"▸\";float: left;margin-right: 0.25em;color: #696969;}#sk-container-id-5 label.sk-toggleable__label-arrow:hover:before {color: black;}#sk-container-id-5 div.sk-estimator:hover label.sk-toggleable__label-arrow:before {color: black;}#sk-container-id-5 div.sk-toggleable__content {max-height: 0;max-width: 0;overflow: hidden;text-align: left;background-color: #f0f8ff;}#sk-container-id-5 div.sk-toggleable__content pre {margin: 0.2em;color: black;border-radius: 0.25em;background-color: #f0f8ff;}#sk-container-id-5 input.sk-toggleable__control:checked~div.sk-toggleable__content {max-height: 200px;max-width: 100%;overflow: auto;}#sk-container-id-5 input.sk-toggleable__control:checked~label.sk-toggleable__label-arrow:before {content: \"▾\";}#sk-container-id-5 div.sk-estimator input.sk-toggleable__control:checked~label.sk-toggleable__label {background-color: #d4ebff;}#sk-container-id-5 div.sk-label input.sk-toggleable__control:checked~label.sk-toggleable__label {background-color: #d4ebff;}#sk-container-id-5 input.sk-hidden--visually {border: 0;clip: rect(1px 1px 1px 1px);clip: rect(1px, 1px, 1px, 1px);height: 1px;margin: -1px;overflow: hidden;padding: 0;position: absolute;width: 1px;}#sk-container-id-5 div.sk-estimator {font-family: monospace;background-color: #f0f8ff;border: 1px dotted black;border-radius: 0.25em;box-sizing: border-box;margin-bottom: 0.5em;}#sk-container-id-5 div.sk-estimator:hover {background-color: #d4ebff;}#sk-container-id-5 div.sk-parallel-item::after {content: \"\";width: 100%;border-bottom: 1px solid gray;flex-grow: 1;}#sk-container-id-5 div.sk-label:hover label.sk-toggleable__label {background-color: #d4ebff;}#sk-container-id-5 div.sk-serial::before {content: \"\";position: absolute;border-left: 1px solid gray;box-sizing: border-box;top: 0;bottom: 0;left: 50%;z-index: 0;}#sk-container-id-5 div.sk-serial {display: flex;flex-direction: column;align-items: center;background-color: white;padding-right: 0.2em;padding-left: 0.2em;position: relative;}#sk-container-id-5 div.sk-item {position: relative;z-index: 1;}#sk-container-id-5 div.sk-parallel {display: flex;align-items: stretch;justify-content: center;background-color: white;position: relative;}#sk-container-id-5 div.sk-item::before, #sk-container-id-5 div.sk-parallel-item::before {content: \"\";position: absolute;border-left: 1px solid gray;box-sizing: border-box;top: 0;bottom: 0;left: 50%;z-index: -1;}#sk-container-id-5 div.sk-parallel-item {display: flex;flex-direction: column;z-index: 1;position: relative;background-color: white;}#sk-container-id-5 div.sk-parallel-item:first-child::after {align-self: flex-end;width: 50%;}#sk-container-id-5 div.sk-parallel-item:last-child::after {align-self: flex-start;width: 50%;}#sk-container-id-5 div.sk-parallel-item:only-child::after {width: 0;}#sk-container-id-5 div.sk-dashed-wrapped {border: 1px dashed gray;margin: 0 0.4em 0.5em 0.4em;box-sizing: border-box;padding-bottom: 0.4em;background-color: white;}#sk-container-id-5 div.sk-label label {font-family: monospace;font-weight: bold;display: inline-block;line-height: 1.2em;}#sk-container-id-5 div.sk-label-container {text-align: center;}#sk-container-id-5 div.sk-container {/* jupyter's `normalize.less` sets `[hidden] { display: none; }` but bootstrap.min.css set `[hidden] { display: none !important; }` so we also need the `!important` here to be able to override the default hidden behavior on the sphinx rendered scikit-learn.org. See: https://github.com/scikit-learn/scikit-learn/issues/21755 */display: inline-block !important;position: relative;}#sk-container-id-5 div.sk-text-repr-fallback {display: none;}</style><div id=\"sk-container-id-5\" class=\"sk-top-container\"><div class=\"sk-text-repr-fallback\"><pre>LinearRegression()</pre><b>In a Jupyter environment, please rerun this cell to show the HTML representation or trust the notebook. <br />On GitHub, the HTML representation is unable to render, please try loading this page with nbviewer.org.</b></div><div class=\"sk-container\" hidden><div class=\"sk-item\"><div class=\"sk-estimator sk-toggleable\"><input class=\"sk-toggleable__control sk-hidden--visually\" id=\"sk-estimator-id-5\" type=\"checkbox\" checked><label for=\"sk-estimator-id-5\" class=\"sk-toggleable__label sk-toggleable__label-arrow\">LinearRegression</label><div class=\"sk-toggleable__content\"><pre>LinearRegression()</pre></div></div></div></div></div>"
      ],
      "text/plain": [
       "LinearRegression()"
      ]
     },
     "execution_count": 82,
     "metadata": {},
     "output_type": "execute_result"
    }
   ],
   "source": [
    "# 创建线性回归模型并进行训练\n",
    "model = LinearRegression()\n",
    "model.fit(X_train, y_train)"
   ]
  },
  {
   "cell_type": "code",
   "execution_count": 83,
   "metadata": {},
   "outputs": [
    {
     "data": {
      "text/plain": [
       "array([10.63787525, 24.26065495,  7.70373809, 27.13491177, 21.48619872,\n",
       "       17.773617  , 15.76762526, 20.59797352, 21.42631837, 27.46425369,\n",
       "       17.83349735, 10.10893216, 18.2526598 , 17.03509268, 18.74168266,\n",
       "       11.53608051, 10.59795502,  9.77959023, 16.86543169,  9.47020842,\n",
       "       19.07102459, 16.42630912, 17.8933777 , 17.76363694,  7.91331931,\n",
       "        8.93128527, 10.50813449, 18.16283928, 10.77759607, 19.84946914,\n",
       "        7.3644161 , 11.49616028, 15.69776486, 18.75166272, 18.08299881,\n",
       "       18.76164278, 10.53807467, 11.00713741, 27.18481206, 19.51014716,\n",
       "       21.15685679,  9.59994918,  9.96921134, 11.93528284, 16.90535192,\n",
       "       18.39238062, 13.10294968, 17.34447449, 17.95325805,  8.02309996,\n",
       "       16.61593023, 18.53210144, 23.52213063, 12.69376728, 18.58200173,\n",
       "        9.80953041, 24.11095408, 10.07899198, 18.99118412, 10.84745648,\n",
       "       12.79356787, 11.95524296, 10.5779949 , 17.35445455, 12.17480425,\n",
       "       24.09099396, 14.51013791,  9.9791914 , 17.61393607, 10.00913158,\n",
       "       14.10095551, 26.73570943, 17.19477361, 28.20277801,  8.69176387,\n",
       "       27.40437334, 11.18677847, 15.88738597,  9.41032807, 14.35045697,\n",
       "       10.56801485, 18.67182226,  9.79955035, 16.72571087,  9.70972982,\n",
       "       18.62192196, 14.17081592, 17.60395601,  7.62389762, 26.35646721,\n",
       "       25.78760389, 26.13690593, 16.13688743, 17.74367683, 25.57802266,\n",
       "       14.29057662, 11.48618022, 16.67581058, 10.19875268, 17.13489326,\n",
       "       16.47620941, 15.6877848 ,  7.8933592 ,  9.52010871, 16.75565105,\n",
       "       13.14286991, 16.67581058, 14.14087575, 28.83152169, 19.75964862,\n",
       "       10.43827409, 11.2266987 , 18.69178237, 11.68578138, 16.33648859,\n",
       "       20.84747498, 27.03511118, 25.6878033 ,  9.69974977, 10.72769578,\n",
       "       16.33648859, 17.21473373, 11.26661893, 14.16083586, 16.59597011,\n",
       "       15.10894141,  9.04106591, 10.38837379, 18.35246039, 18.72172255,\n",
       "       10.11891222, 13.34247108, 16.406349  , 15.66782468, 10.19875268,\n",
       "       10.54805473, 17.78359706, 17.44427507, 15.23868217, 18.29258004,\n",
       "        8.48218264, 16.07700707, 12.85344822, 26.40636751, 14.00115493,\n",
       "       10.00913158, 14.57001826,  6.5260912 , 26.86545019, 26.38640739,\n",
       "       18.14287916, 10.07899198, 22.54408491, 20.48819288, 11.40633975,\n",
       "       17.80355718, 16.75565105, 20.67781399, 14.04107516, 14.34047692,\n",
       "        9.79955035, 17.8933777 , 18.76164278, 10.9871773 ,  8.0131199 ,\n",
       "       17.8933777 , 25.5680426 ,  9.45024831, 16.62591029, 15.07900124,\n",
       "       15.59796427, 14.0809954 , 14.06103528, 10.55803479, 16.55604988,\n",
       "       16.01712672,  9.0211058 , 20.83749493,  8.58198323, 10.76761601,\n",
       "       11.71572156, 16.11692731, 21.64587965, 17.68379648, 17.44427507,\n",
       "       10.18877263, 10.19875268, 15.4482634 , 18.1328991 , 11.33647934,\n",
       "       18.74168266, 26.63590885, 17.33449443, 18.44228091, 11.96522302,\n",
       "        8.16282077, 10.11891222, 16.82551145,  9.93927117, 23.90137285,\n",
       "       18.63190202,  8.1328806 ,  5.9971481 , 17.87341758, 18.97122401,\n",
       "       25.25866079, 26.2167464 , 10.39835385, 16.63589034, 17.10495309,\n",
       "        9.68976971, 16.69577069, 12.70374734, 10.94725706, 10.77759607,\n",
       "       15.87740591, 17.14487332, 17.98319823, 18.57202167, 10.93727701,\n",
       "       26.98521089, 16.75565105, 18.17281934, 14.22071621, 16.96523227,\n",
       "       13.50215201, 10.42829403,  9.45024831,  9.66980959, 15.3285027 ,\n",
       "       16.90535192, 17.33449443, 13.671813  , 17.72371671, 14.06103528,\n",
       "        7.91331931, 16.85545163, 12.00514325, 13.35245114, 19.27062576,\n",
       "       21.98520164,  9.87939082, 18.09297887,  8.54206299, 17.84347741,\n",
       "       16.20674783, 16.87541175, 10.32849344, 23.37242976, 19.140885  ,\n",
       "       11.67580133, 18.62192196, 20.58799347, 25.18880038,  8.26262136,\n",
       "       15.99716661, 15.93728626, 19.89936944, 13.24267049, 10.46821426,\n",
       "       16.87541175, 10.39835385,  9.62988936, 10.32849344, 11.3464594 ,\n",
       "       18.32252021, 21.24667732, 15.71772497, 23.1927887 ,  8.41232223,\n",
       "       28.20277801, 14.64985873, 13.24267049, 25.76764377, 13.86143411,\n",
       "        9.82949052, 13.11292973, 18.11293899,  8.4921627 , 16.85545163,\n",
       "       17.74367683, 15.64786456, 18.67182226,  9.75963012, 17.16483344,\n",
       "       19.39038646, 11.74566173, 13.21273032, 16.96523227, 17.99317828,\n",
       "       17.47421525, 13.40235143, 18.38240056, 10.18877263, 17.30455426])"
      ]
     },
     "execution_count": 83,
     "metadata": {},
     "output_type": "execute_result"
    }
   ],
   "source": [
    "# 进行预测\n",
    "y_pred = model.predict(X_test)\n",
    "y_pred"
   ]
  },
  {
   "cell_type": "code",
   "execution_count": 84,
   "metadata": {},
   "outputs": [
    {
     "data": {
      "text/plain": [
       "<bound method NDFrame.describe of       Actual  Predicted\n",
       "852    10.64  10.637875\n",
       "184    24.24  24.260655\n",
       "1225    7.62   7.703738\n",
       "67     27.42  27.134912\n",
       "220    21.48  21.486199\n",
       "...      ...        ...\n",
       "560    17.54  17.474215\n",
       "946    13.21  13.402351\n",
       "522    18.28  18.382401\n",
       "874     9.82  10.188773\n",
       "1416   16.66  17.304554\n",
       "\n",
       "[295 rows x 2 columns]>"
      ]
     },
     "execution_count": 84,
     "metadata": {},
     "output_type": "execute_result"
    }
   ],
   "source": [
    "pred_df = pd.DataFrame({'Actual': y_test, 'Predicted': y_pred.ravel()})\n",
    "#df=pd.DataFrame({\"Actual\":y_test,\"Predict\":y_pred})\n",
    "pred_df.describe\n"
   ]
  },
  {
   "cell_type": "code",
   "execution_count": 85,
   "metadata": {},
   "outputs": [
    {
     "name": "stdout",
     "output_type": "stream",
     "text": [
      "均方根误差:  0.11086626958368649\n"
     ]
    }
   ],
   "source": [
    "# 计算均方根误差\n",
    "mse = mean_squared_error(y_test, y_pred)\n",
    "print('均方根误差: ', mse)"
   ]
  }
 ],
 "metadata": {
  "kernelspec": {
   "display_name": "Python 3",
   "language": "python",
   "name": "python3"
  },
  "language_info": {
   "codemirror_mode": {
    "name": "ipython",
    "version": 3
   },
   "file_extension": ".py",
   "mimetype": "text/x-python",
   "name": "python",
   "nbconvert_exporter": "python",
   "pygments_lexer": "ipython3",
   "version": "3.11.5"
  }
 },
 "nbformat": 4,
 "nbformat_minor": 5
}
